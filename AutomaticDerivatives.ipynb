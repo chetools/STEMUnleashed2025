{
  "nbformat": 4,
  "nbformat_minor": 0,
  "metadata": {
    "colab": {
      "provenance": [],
      "machine_shape": "hm",
      "authorship_tag": "ABX9TyPRE6zjX8E7jWxt8SCquRoH",
      "include_colab_link": true
    },
    "kernelspec": {
      "name": "python3",
      "display_name": "Python 3"
    },
    "language_info": {
      "name": "python"
    }
  },
  "cells": [
    {
      "cell_type": "markdown",
      "metadata": {
        "id": "view-in-github",
        "colab_type": "text"
      },
      "source": [
        "<a href=\"https://colab.research.google.com/github/chetools/STEMUnleashed2025/blob/main/AutomaticDerivatives.ipynb\" target=\"_parent\"><img src=\"https://colab.research.google.com/assets/colab-badge.svg\" alt=\"Open In Colab\"/></a>"
      ]
    },
    {
      "cell_type": "code",
      "source": [
        "#Optimization is central to just about everything we want to do\n",
        "#We develop models to simulate processes on a computer\n",
        "#Models will have adjutable parameters that mirror real life parameters that we wish to adjust to optimize the process\n",
        "# Silence is a wORD, phrase, and even a sentence"
      ],
      "metadata": {
        "id": "fbDmz08Rw7k7"
      },
      "execution_count": null,
      "outputs": []
    },
    {
      "cell_type": "code",
      "execution_count": 1,
      "metadata": {
        "id": "0BarZXJ78AS5"
      },
      "outputs": [],
      "source": [
        "import jax\n",
        "import jax.numpy as jnp\n",
        "jax.config.update(\"jax_enable_x64\", True)\n",
        "import numpy as np\n",
        "from scipy.optimize import minimize"
      ]
    },
    {
      "cell_type": "code",
      "source": [
        "def caroline(x):\n",
        "    return jnp.sin(2*x[0])*jnp.exp(x[1]*jnp.cos(x[2]+x[0]))\n",
        "\n",
        "def will(z):\n",
        "    return z[0]*jnp.exp(z[1])*caroline(z[2:])"
      ],
      "metadata": {
        "id": "lKtspd1CPCXC"
      },
      "execution_count": 7,
      "outputs": []
    },
    {
      "cell_type": "code",
      "source": [
        "z=jnp.array([0.1,0.2,-0.3,1.,2])"
      ],
      "metadata": {
        "id": "TS0BWyJMPu4K"
      },
      "execution_count": 8,
      "outputs": []
    },
    {
      "cell_type": "code",
      "source": [
        "will(z)"
      ],
      "metadata": {
        "colab": {
          "base_uri": "https://localhost:8080/"
        },
        "id": "HawGGAiRP8Cj",
        "outputId": "382448d5-f0ef-4e48-9a81-6b01b74a3b2b"
      },
      "execution_count": 9,
      "outputs": [
        {
          "output_type": "execute_result",
          "data": {
            "text/plain": [
              "Array(-0.06062838, dtype=float32)"
            ]
          },
          "metadata": {},
          "execution_count": 9
        }
      ]
    },
    {
      "cell_type": "code",
      "source": [
        "will_grad = jax.grad(will)"
      ],
      "metadata": {
        "id": "iEINPF6kP-jU"
      },
      "execution_count": 10,
      "outputs": []
    },
    {
      "cell_type": "code",
      "source": [
        "will_grad(z)"
      ],
      "metadata": {
        "colab": {
          "base_uri": "https://localhost:8080/"
        },
        "id": "1Ko0rgC-QQH6",
        "outputId": "e30b3ccf-25ab-4ff2-b592-e8c506c7ae6a"
      },
      "execution_count": 11,
      "outputs": [
        {
          "output_type": "execute_result",
          "data": {
            "text/plain": [
              "Array([-0.60628384, -0.06062838,  0.23736356,  0.00781164,  0.06012304],      dtype=float32)"
            ]
          },
          "metadata": {},
          "execution_count": 11
        }
      ]
    },
    {
      "cell_type": "code",
      "source": [
        "(will(z+jnp.array([1e-4, 0.,0.,0, 0])) - will(z))/1e-4"
      ],
      "metadata": {
        "colab": {
          "base_uri": "https://localhost:8080/"
        },
        "id": "caRFmrDJQUtr",
        "outputId": "b0ae138c-59b4-4f23-de08-5a48abda7333"
      },
      "execution_count": 12,
      "outputs": [
        {
          "output_type": "execute_result",
          "data": {
            "text/plain": [
              "Array(-0.606291, dtype=float32)"
            ]
          },
          "metadata": {},
          "execution_count": 12
        }
      ]
    },
    {
      "cell_type": "code",
      "source": [
        "x=jnp.array([0.1001,0.3,-0.2])"
      ],
      "metadata": {
        "id": "sELFwtbxPOzd"
      },
      "execution_count": null,
      "outputs": []
    },
    {
      "cell_type": "code",
      "source": [
        "caroline(x)"
      ],
      "metadata": {
        "colab": {
          "base_uri": "https://localhost:8080/"
        },
        "id": "yBxzhiV9PXo6",
        "outputId": "740f8c29-f12e-4434-e8fa-0df946482f9d"
      },
      "execution_count": null,
      "outputs": [
        {
          "output_type": "execute_result",
          "data": {
            "text/plain": [
              "Array(0.26803893, dtype=float32)"
            ]
          },
          "metadata": {},
          "execution_count": 32
        }
      ]
    },
    {
      "cell_type": "code",
      "source": [
        "def f(t):\n",
        "    return 2*(t**3)"
      ],
      "metadata": {
        "id": "uH2y56HpAlz2"
      },
      "execution_count": 2,
      "outputs": []
    },
    {
      "cell_type": "code",
      "source": [
        "def finite_difference(g, x, h):\n",
        "    return (g(x+h) - g(x))/h"
      ],
      "metadata": {
        "id": "ErNRSc9OAuu7"
      },
      "execution_count": 3,
      "outputs": []
    },
    {
      "cell_type": "code",
      "source": [
        "def v(t, h):\n",
        "    return finite_difference(f, t, h)"
      ],
      "metadata": {
        "id": "bn-DsTR6Gd09"
      },
      "execution_count": 5,
      "outputs": []
    },
    {
      "cell_type": "code",
      "source": [
        "for i in range(0,-17,-1):\n",
        "    h=10**i\n",
        "    fd = finite_difference(f, 0.5, h)\n",
        "    exact = 6*(0.5)**2\n",
        "    error = abs(fd - exact)\n",
        "    print(f'{i} {fd} {error}')"
      ],
      "metadata": {
        "colab": {
          "base_uri": "https://localhost:8080/"
        },
        "id": "bWeyd_UlB32S",
        "outputId": "cb308faa-67c4-49d9-b60d-98c223528f97"
      },
      "execution_count": 4,
      "outputs": [
        {
          "output_type": "stream",
          "name": "stdout",
          "text": [
            "0 6.5 5.0\n",
            "-1 1.8199999999999994 0.3199999999999994\n",
            "-2 1.5302000000000038 0.03020000000000378\n",
            "-3 1.5030019999999755 0.0030019999999755242\n",
            "-4 1.5003000199997896 0.00030001999978956917\n",
            "-5 1.5000300001954956 3.0000195495594184e-05\n",
            "-6 1.5000030000322795 3.000032279487641e-06\n",
            "-7 1.5000002989706829 2.989706828770977e-07\n",
            "-8 1.5000000352927145 3.529271452862304e-08\n",
            "-9 1.4999999575771028 4.242289719513792e-08\n",
            "-10 1.5000001241105565 1.2411055649863556e-07\n",
            "-11 1.5000001241105565 1.2411055649863556e-07\n",
            "-12 1.4999668174198177 3.318258018225606e-05\n",
            "-13 1.500466417780899 0.0004664177808990644\n",
            "-14 1.4988010832439613 0.0011989167560386704\n",
            "-15 1.498801083243961 0.0011989167560388925\n",
            "-16 1.6653345369377348 0.1653345369377348\n"
          ]
        }
      ]
    },
    {
      "cell_type": "code",
      "source": [
        "for i in range(0,-17,-1):\n",
        "    h=10**i\n",
        "    fd = finite_difference(lambda t: v(t, h), 0.5, h)\n",
        "    exact = 12*0.5\n",
        "    error = abs(fd - exact)\n",
        "    print(f'{i} {fd} {error}')"
      ],
      "metadata": {
        "colab": {
          "base_uri": "https://localhost:8080/"
        },
        "id": "RHxY002tCY2q",
        "outputId": "5f7d48ad-023f-4164-f464-dad9950f58f0"
      },
      "execution_count": 6,
      "outputs": [
        {
          "output_type": "stream",
          "name": "stdout",
          "text": [
            "0 18.0 12.0\n",
            "-1 7.199999999999993 1.199999999999993\n",
            "-2 6.119999999999459 0.1199999999994592\n",
            "-3 6.012000000055195 0.012000000055195414\n",
            "-4 6.0012000036024915 0.0012000036024915062\n",
            "-5 6.00011929030586 0.00011929030585999811\n",
            "-6 6.000033803132965 3.380313296474924e-05\n",
            "-7 6.006306563222097 0.006306563222096884\n",
            "-8 6.661338147750939 0.6613381477509392\n",
            "-9 0.0 6.0\n",
            "-10 0.0 6.0\n",
            "-11 0.0 6.0\n",
            "-12 0.0 6.0\n",
            "-13 0.0 6.0\n",
            "-14 0.0 6.0\n",
            "-15 0.0 6.0\n",
            "-16 0.0 6.0\n"
          ]
        }
      ]
    },
    {
      "cell_type": "code",
      "source": [
        "# prompt: using plotly create a plot of the rosenbrock function\n",
        "\n",
        "import plotly.graph_objects as go\n",
        "import numpy as np\n",
        "\n",
        "def rosenbrock(x, y, a=1, b=100):\n",
        "    return (a - x)**2 + b * (y - x**2)**2\n",
        "\n",
        "x = np.linspace(-2, 2, 100)\n",
        "y = np.linspace(-1, 3, 100)\n",
        "X, Y = np.meshgrid(x, y)\n",
        "Z = rosenbrock(X, Y)\n",
        "\n",
        "fig = go.Figure(data=[go.Surface(z=Z, x=X, y=Y)])\n",
        "fig.update_layout(\n",
        "    title='Rosenbrock function',\n",
        "    scene = dict(\n",
        "        xaxis_title='X',\n",
        "        yaxis_title='Y',\n",
        "        zaxis_title='f(X,Y)'),\n",
        "    autosize=False,\n",
        "    width=500,\n",
        "    height=500,\n",
        "    margin=dict(l=65, r=50, b=65, t=90)\n",
        ")\n",
        "\n",
        "fig.show()\n"
      ],
      "metadata": {
        "id": "9BotdVc4G8x7"
      },
      "execution_count": null,
      "outputs": []
    },
    {
      "cell_type": "code",
      "source": [
        "def rosenbrock(v):\n",
        "    x,y = v\n",
        "    a=1\n",
        "    b=100\n",
        "    return (a - x)**2 + b * (y - x**2)**2"
      ],
      "metadata": {
        "id": "n8ToXVx6RODE"
      },
      "execution_count": 16,
      "outputs": []
    },
    {
      "cell_type": "code",
      "source": [
        "minimize(rosenbrock, [2,2.])"
      ],
      "metadata": {
        "id": "8ow1D1875dDu",
        "outputId": "2f4e5f33-93ea-4a5f-f7e2-de4957cb79af",
        "colab": {
          "base_uri": "https://localhost:8080/"
        }
      },
      "execution_count": 17,
      "outputs": [
        {
          "output_type": "execute_result",
          "data": {
            "text/plain": [
              "  message: Optimization terminated successfully.\n",
              "  success: True\n",
              "   status: 0\n",
              "      fun: 1.8932783589357527e-11\n",
              "        x: [ 1.000e+00  1.000e+00]\n",
              "      nit: 30\n",
              "      jac: [ 5.274e-06 -2.506e-06]\n",
              " hess_inv: [[ 5.168e-01  1.032e+00]\n",
              "            [ 1.032e+00  2.066e+00]]\n",
              "     nfev: 105\n",
              "     njev: 35"
            ]
          },
          "metadata": {},
          "execution_count": 17
        }
      ]
    },
    {
      "cell_type": "code",
      "source": [
        "@jax.jit\n",
        "def rosenbrockNd(x):\n",
        "    return jnp.sum(10000*(x[:-1:2]**2 - x[1::2])**2 + (1 - x[:-1:2])**2)"
      ],
      "metadata": {
        "id": "NBJAdqYK5h2d"
      },
      "execution_count": 2,
      "outputs": []
    },
    {
      "cell_type": "code",
      "source": [
        "rosen_grad = jax.jit(jax.grad(rosenbrockNd))"
      ],
      "metadata": {
        "id": "oEalXjHi7-m_"
      },
      "execution_count": 3,
      "outputs": []
    },
    {
      "cell_type": "code",
      "source": [
        "rnd=np.random.RandomState(123)\n",
        "x0=rnd.uniform(-2,2, size=300)"
      ],
      "metadata": {
        "id": "pLz5ZgjZ6DS8"
      },
      "execution_count": 8,
      "outputs": []
    },
    {
      "cell_type": "code",
      "source": [
        "sol=minimize(rosenbrockNd, x0, jac=rosen_grad)\n",
        "sol"
      ],
      "metadata": {
        "id": "SxbpNyZX6HWV",
        "outputId": "e6d81cc4-3e04-418d-9087-03bc97931c89",
        "colab": {
          "base_uri": "https://localhost:8080/"
        }
      },
      "execution_count": 9,
      "outputs": [
        {
          "output_type": "execute_result",
          "data": {
            "text/plain": [
              "  message: Optimization terminated successfully.\n",
              "  success: True\n",
              "   status: 0\n",
              "      fun: 2.0093221328732512e-10\n",
              "        x: [ 1.000e+00  1.000e+00 ...  1.000e+00  1.000e+00]\n",
              "      nit: 3912\n",
              "      jac: [-1.140e-06  3.175e-07 ... -3.777e-07 -3.747e-07]\n",
              " hess_inv: [[ 3.781e-01  7.564e-01 ...  2.249e-03  4.492e-03]\n",
              "            [ 7.564e-01  1.513e+00 ...  4.502e-03  8.993e-03]\n",
              "            ...\n",
              "            [ 2.249e-03  4.502e-03 ...  2.394e-02  4.786e-02]\n",
              "            [ 4.492e-03  8.993e-03 ...  4.786e-02  9.574e-02]]\n",
              "     nfev: 4270\n",
              "     njev: 4270"
            ]
          },
          "metadata": {},
          "execution_count": 9
        }
      ]
    },
    {
      "cell_type": "code",
      "source": [
        "sol.x"
      ],
      "metadata": {
        "id": "MVpISLZW6RQO",
        "outputId": "7cb59ecc-2927-4080-c4c6-5ee9252ee34c",
        "colab": {
          "base_uri": "https://localhost:8080/"
        }
      },
      "execution_count": 46,
      "outputs": [
        {
          "output_type": "execute_result",
          "data": {
            "text/plain": [
              "array([1.00000186, 1.00000375, 0.99999706, 0.99999415, 0.9999973 ,\n",
              "       0.99999462])"
            ]
          },
          "metadata": {},
          "execution_count": 46
        }
      ]
    },
    {
      "cell_type": "code",
      "source": [],
      "metadata": {
        "id": "GMoyyNqg77bG"
      },
      "execution_count": null,
      "outputs": []
    }
  ]
}